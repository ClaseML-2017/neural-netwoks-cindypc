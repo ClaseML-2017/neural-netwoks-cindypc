{
 "cells": [
  {
   "cell_type": "markdown",
   "metadata": {},
   "source": [
    "## Valeria Pérez Cong\n",
    "## 145009\n",
    "## Noviembre 2, 2017"
   ]
  },
  {
   "cell_type": "markdown",
   "metadata": {},
   "source": [
    "-Train a logistic regression for the AND and XOR problems using Tensorflow\n",
    "\n",
    "-Train a ANN for the XOR problem and create a visualization that enables you to visualize the decision boudaries\n",
    "\n",
    "-Train a ANN that identifies points inside a circle (generate the data yourself). Experiment with the number of neurons in the intermediate layer\n",
    "\n",
    "Optional: Plot the error vs the model complexity"
   ]
  },
  {
   "cell_type": "markdown",
   "metadata": {},
   "source": [
    "# El problema del círculo"
   ]
  },
  {
   "cell_type": "code",
   "execution_count": 46,
   "metadata": {
    "collapsed": true
   },
   "outputs": [],
   "source": [
    "import tensorflow as tf\n",
    "\n",
    "import os\n",
    "import io\n",
    "import numpy as np\n",
    "import matplotlib.pyplot as plt\n",
    "import pandas as pd\n",
    "import csv\n",
    "from sklearn import linear_model\n",
    "from sklearn.model_selection import train_test_split\n",
    "from sklearn.metrics import confusion_matrix\n",
    "from scipy.stats import norm\n",
    "from sklearn import preprocessing\n",
    "from random import random\n",
    "import math\n",
    "from sklearn import datasets, linear_model\n",
    "\n",
    "from sklearn.linear_model import LinearRegression\n",
    "from sklearn import metrics\n",
    "from sklearn.metrics import mean_squared_error, r2_score\n",
    "%matplotlib inline\n"
   ]
  },
  {
   "cell_type": "code",
   "execution_count": 111,
   "metadata": {
    "collapsed": true
   },
   "outputs": [],
   "source": [
    "##Para generar los datos se utilizó R Studio\n",
    "#x<-runif(1500, -2, 2)\n",
    "#y <- runif(1500, -2, 2)\n",
    "#r <- 1\n",
    "#target <- ifelse(sqrt(x^2+y^2) <= r^2, 1,0)\n",
    "#data_set <- data.frame(x=x, y=y,target=target)\n",
    "\n",
    "circle=pd.read_csv(\"/Users/valeriaperezcong/Desktop/ITAM/9/aprendizaje/udemy/DataScience-Python3/DeepLearning/circle_data.csv\")"
   ]
  },
  {
   "cell_type": "code",
   "execution_count": 112,
   "metadata": {
    "collapsed": false
   },
   "outputs": [
    {
     "data": {
      "text/html": [
       "<div>\n",
       "<table border=\"1\" class=\"dataframe\">\n",
       "  <thead>\n",
       "    <tr style=\"text-align: right;\">\n",
       "      <th></th>\n",
       "      <th>x</th>\n",
       "      <th>y</th>\n",
       "      <th>target</th>\n",
       "    </tr>\n",
       "  </thead>\n",
       "  <tbody>\n",
       "    <tr>\n",
       "      <th>count</th>\n",
       "      <td>1500.000000</td>\n",
       "      <td>1500.000000</td>\n",
       "      <td>1500.000000</td>\n",
       "    </tr>\n",
       "    <tr>\n",
       "      <th>mean</th>\n",
       "      <td>0.025768</td>\n",
       "      <td>-0.010534</td>\n",
       "      <td>0.180667</td>\n",
       "    </tr>\n",
       "    <tr>\n",
       "      <th>std</th>\n",
       "      <td>1.180886</td>\n",
       "      <td>1.154959</td>\n",
       "      <td>0.384870</td>\n",
       "    </tr>\n",
       "    <tr>\n",
       "      <th>min</th>\n",
       "      <td>-1.999495</td>\n",
       "      <td>-1.997327</td>\n",
       "      <td>0.000000</td>\n",
       "    </tr>\n",
       "    <tr>\n",
       "      <th>25%</th>\n",
       "      <td>-1.018630</td>\n",
       "      <td>-1.011903</td>\n",
       "      <td>0.000000</td>\n",
       "    </tr>\n",
       "    <tr>\n",
       "      <th>50%</th>\n",
       "      <td>0.010652</td>\n",
       "      <td>-0.041783</td>\n",
       "      <td>0.000000</td>\n",
       "    </tr>\n",
       "    <tr>\n",
       "      <th>75%</th>\n",
       "      <td>1.090813</td>\n",
       "      <td>1.020028</td>\n",
       "      <td>0.000000</td>\n",
       "    </tr>\n",
       "    <tr>\n",
       "      <th>max</th>\n",
       "      <td>1.999295</td>\n",
       "      <td>1.999903</td>\n",
       "      <td>1.000000</td>\n",
       "    </tr>\n",
       "  </tbody>\n",
       "</table>\n",
       "</div>"
      ],
      "text/plain": [
       "                 x            y       target\n",
       "count  1500.000000  1500.000000  1500.000000\n",
       "mean      0.025768    -0.010534     0.180667\n",
       "std       1.180886     1.154959     0.384870\n",
       "min      -1.999495    -1.997327     0.000000\n",
       "25%      -1.018630    -1.011903     0.000000\n",
       "50%       0.010652    -0.041783     0.000000\n",
       "75%       1.090813     1.020028     0.000000\n",
       "max       1.999295     1.999903     1.000000"
      ]
     },
     "execution_count": 112,
     "metadata": {},
     "output_type": "execute_result"
    }
   ],
   "source": [
    "circle.describe()"
   ]
  },
  {
   "cell_type": "markdown",
   "metadata": {},
   "source": [
    "Para poder entrenar la red neuronal, generamos 1500 numeros aleatorios para x y y. Si x^2 + y^2<=1^2 la variable target es 1 (es decir, el punto x y sí está dentro del círculo) y 0 en otro caso. "
   ]
  },
  {
   "cell_type": "code",
   "execution_count": 113,
   "metadata": {
    "collapsed": false
   },
   "outputs": [],
   "source": [
    "col_x= circle.ix[:,0]\n",
    "col_y=circle.ix[:,1]\n",
    "target=circle.ix[:,2]"
   ]
  },
  {
   "cell_type": "code",
   "execution_count": 115,
   "metadata": {
    "collapsed": false
   },
   "outputs": [],
   "source": [
    "X=[]\n",
    "Y=[]\n",
    "\n",
    "for i in range (0,1500):\n",
    "    X.append([col_x[i],col_y[i]])\n",
    "\n",
    "for j in range (0,1500):\n",
    "    Y.append([target[j]])\n",
    "    \n"
   ]
  },
  {
   "cell_type": "code",
   "execution_count": 116,
   "metadata": {
    "collapsed": false
   },
   "outputs": [],
   "source": [
    "X=np.asarray(X)\n",
    "Y=np.asarray(Y)\n"
   ]
  },
  {
   "cell_type": "code",
   "execution_count": 117,
   "metadata": {
    "collapsed": true
   },
   "outputs": [],
   "source": [
    "input_size = 2\n",
    "output_layer_size = 1\n",
    "input_data= tf.placeholder(tf.float32,[None, input_size])\n",
    "\n",
    "target = tf.placeholder(tf.float32,[None, output_layer_size])"
   ]
  },
  {
   "cell_type": "code",
   "execution_count": 132,
   "metadata": {
    "collapsed": true
   },
   "outputs": [],
   "source": [
    "hidden_nodes=2\n",
    "#hold weights and biases between each training run \n",
    "#2,2\n",
    "input_weights=tf.Variable(tf.random_uniform([input_size,hidden_nodes],-1,1),name=\"input_weights\")\n",
    "input_biases= tf.Variable(tf.zeros([hidden_nodes]),name=\"input_biases\")\n",
    "\n",
    "hidden_weights= tf.Variable(tf.random_uniform([input_size,hidden_nodes],-1,1),name=\"hidden_weights\")\n",
    "hidden_biases=tf.Variable(tf.zeros([hidden_nodes]),name=\"hidden_biases\")"
   ]
  },
  {
   "cell_type": "code",
   "execution_count": 133,
   "metadata": {
    "collapsed": false
   },
   "outputs": [],
   "source": [
    "#nuestra capa de input es una multiplicacion matricial entre \n",
    "#los datos de entrada y sus respectivos pesos\n",
    "#aquí estamos poniendo las conexiones entre las capas\n",
    "input_layer=tf.matmul(input_data,input_weights)\n",
    "hidden_layer=tf.nn.sigmoid(input_layer+input_biases)\n",
    "#digit_weights\n",
    "output_layer=tf.nn.sigmoid(tf.matmul(hidden_layer,hidden_weights)+hidden_biases)"
   ]
  },
  {
   "cell_type": "code",
   "execution_count": 134,
   "metadata": {
    "collapsed": true
   },
   "outputs": [],
   "source": [
    "#para medir qué tan correctos fueron nuestros resultados \n",
    "# usamos softmax_cross_entropy para penalizar más rápido los errores\n",
    "loss_function=tf.reduce_mean(tf.reduce_sum((target-output_layer)**2))"
   ]
  },
  {
   "cell_type": "code",
   "execution_count": 135,
   "metadata": {
    "collapsed": true
   },
   "outputs": [],
   "source": [
    "optimizer = tf.train.GradientDescentOptimizer(0.5).minimize(loss_function)"
   ]
  },
  {
   "cell_type": "code",
   "execution_count": 136,
   "metadata": {
    "collapsed": true
   },
   "outputs": [],
   "source": [
    "#evaluate \n",
    "correct_prediction = tf.equal(tf.argmax(output_layer,1), tf.argmax(target,1))\n",
    "accuracy = tf.reduce_mean(tf.cast(correct_prediction, tf.float32))"
   ]
  },
  {
   "cell_type": "markdown",
   "metadata": {},
   "source": [
    "## Corremos la red"
   ]
  },
  {
   "cell_type": "code",
   "execution_count": 137,
   "metadata": {
    "collapsed": false
   },
   "outputs": [],
   "source": [
    "init=tf.global_variables_initializer()\n",
    "sess=tf.Session()\n",
    "\n",
    "#corremos 5000 training steps\n",
    "sess.run(init)\n",
    "for i in range(15000):\n",
    "    sess.run(optimizer, feed_dict={input_data: X, target: Y})\n",
    "    "
   ]
  },
  {
   "cell_type": "code",
   "execution_count": 138,
   "metadata": {
    "collapsed": false
   },
   "outputs": [
    {
     "name": "stdout",
     "output_type": "stream",
     "text": [
      "0.819333\n"
     ]
    }
   ],
   "source": [
    "correct_prediction = tf.equal(tf.round(output_layer),target)\n",
    "accuracy = tf.reduce_mean(tf.cast(correct_prediction, tf.float32))\n",
    "print(sess.run(accuracy, feed_dict={input_data: X, target: Y})) "
   ]
  },
  {
   "cell_type": "markdown",
   "metadata": {},
   "source": [
    "Podemos ver que el modelo tiene una accuracy del 81.93% "
   ]
  },
  {
   "cell_type": "markdown",
   "metadata": {},
   "source": [
    "# El problema de AND y XOR"
   ]
  },
  {
   "cell_type": "markdown",
   "metadata": {},
   "source": [
    "## AND"
   ]
  },
  {
   "cell_type": "code",
   "execution_count": 147,
   "metadata": {
    "collapsed": false
   },
   "outputs": [],
   "source": [
    "#-Train a logistic regression for the AND and XOR problems using Tensorflow\n",
    "\n",
    "#-Train a ANN for the XOR problem and create a visualization that enables you to visualize the decision boudaries\n",
    "\n",
    "X_and=np.asarray([[0,0],[0,1],[1,0],[1,1]])\n",
    "Y_and=np.asarray([[0],[0],[0],[1]])\n",
    "\n",
    "input_size_and = 2\n",
    "output_layer_size_and = 1\n",
    "\n",
    "input_data_and= tf.placeholder(tf.float32,[None, input_size])\n",
    "\n",
    "target_and = tf.placeholder(tf.float32,[None, output_layer_size])\n",
    "\n",
    "#hold weights and biases between each training run \n",
    "#2,2\n",
    "input_weights_and=tf.Variable(tf.random_uniform([input_size_and,output_layer_size_and],-1,1),name=\"input_weights_and\")\n",
    "input_biases_and= tf.Variable(tf.zeros([output_layer_size_and]),name=\"input_biases_and\")\n",
    "\n",
    "#nuestra capa de input es una multiplicacion matricial entre \n",
    "#los datos de entrada y sus respectivos pesos\n",
    "#aquí estamos poniendo las conexiones entre las capas\n",
    "input_layer_and=tf.matmul(input_data_and,input_weights_and)\n",
    "output_layer_and=tf.nn.sigmoid(input_layer_and+input_biases_and)\n",
    "#digit_weights\n",
    "\n",
    "#para medir qué tan correctos fueron nuestros resultados \n",
    "# usamos softmax_cross_entropy para penalizar más rápido los errores\n",
    "loss_function_and=tf.reduce_mean(tf.reduce_sum((target_and-output_layer_and)**2))\n",
    "\n",
    "optimizer_and = tf.train.GradientDescentOptimizer(0.5).minimize(loss_function_and)\n",
    "\n",
    "init_and = tf.global_variables_initializer()\n",
    "sess_and = tf.Session()"
   ]
  },
  {
   "cell_type": "code",
   "execution_count": 149,
   "metadata": {
    "collapsed": false
   },
   "outputs": [],
   "source": [
    "sess_and.run(init_and)\n",
    "for a in range(2500):\n",
    "    sess_and.run(optimizer_and, feed_dict={input_data_and: X_and, target_and: Y_and})"
   ]
  },
  {
   "cell_type": "code",
   "execution_count": 153,
   "metadata": {
    "collapsed": false
   },
   "outputs": [
    {
     "name": "stdout",
     "output_type": "stream",
     "text": [
      "1.51366429919 1.51366429919 -1.0\n"
     ]
    }
   ],
   "source": [
    "w=[sess_and.run(input_biases_and, feed_dict={input_data_and: X_and, target_and: Y_and})[0]]+[i[0] for i in sess_and.run(input_weights_and, feed_dict={ input_data_and: X_and, target_and: Y_and})]\n",
    "\n",
    "m=((w[0]/w[2]))/((-w[0]/w[1])) #cambios en la pendiente \n",
    "\n",
    "print (-1.0*w[0]/w[1], -1.0*w[0]/w[2], m)"
   ]
  },
  {
   "cell_type": "code",
   "execution_count": 154,
   "metadata": {
    "collapsed": false
   },
   "outputs": [
    {
     "data": {
      "image/png": "[encoded data removed]",
      "text/plain": [
       "<matplotlib.figure.Figure at 0x12d1bf2b0>"
      ]
     },
     "metadata": {},
     "output_type": "display_data"
    }
   ],
   "source": [
    "plt.scatter(X_and[:,0],X_and[:,1],c=['red' if i==1 else 'blue' for i in Y_and])\n",
    "x2 = np.linspace(-7,7,100)\n",
    "plt.plot(x2,-w[0]/w[2]+m*x2,color='red')\n",
    "plt.ylim([-7,7])\n",
    "plt.xlim([-7,7])\n",
    "plt.show()"
   ]
  },
  {
   "cell_type": "markdown",
   "metadata": {},
   "source": [
    "## XOR"
   ]
  },
  {
   "cell_type": "code",
   "execution_count": 155,
   "metadata": {
    "collapsed": true
   },
   "outputs": [],
   "source": [
    "#-Train a logistic regression for the AND and XOR problems using Tensorflow\n",
    "\n",
    "#-Train a ANN for the XOR problem and create a visualization that enables you to visualize the decision boudaries\n",
    "\n",
    "X_xor=np.asarray([[0,0],[0,1],[1,0],[1,1]])\n",
    "Y_xor=np.asarray([[0],[1],[1],[0]])\n",
    "\n",
    "input_size_xor = 2\n",
    "output_layer_size_xor = 1\n",
    "\n",
    "input_data_xor= tf.placeholder(tf.float32,[None, input_size_xor])\n",
    "\n",
    "target_xor = tf.placeholder(tf.float32,[None, output_layer_size_xor])\n",
    "\n",
    "#hold weights and biases between each training run \n",
    "#2,2\n",
    "input_weights_xor=tf.Variable(tf.random_uniform([input_size_xor,output_layer_size_xor],-1,1),name=\"input_weights_xor\")\n",
    "input_biases_xor= tf.Variable(tf.zeros([output_layer_size_xor]),name=\"input_biases_xor\")\n",
    "\n",
    "#nuestra capa de input es una multiplicacion matricial entre \n",
    "#los datos de entrada y sus respectivos pesos\n",
    "#aquí estamos poniendo las conexiones entre las capas\n",
    "input_layer_xor=tf.matmul(input_data_xor,input_weights_xor)\n",
    "output_layer_xor=tf.nn.sigmoid(input_layer_xor+input_biases_xor)\n",
    "#digit_weights\n",
    "\n",
    "#para medir qué tan correctos fueron nuestros resultados \n",
    "# usamos softmax_cross_entropy para penalizar más rápido los errores\n",
    "loss_function_xor=tf.reduce_mean(tf.reduce_sum((target_xor-output_layer_xor)**2))\n",
    "\n",
    "optimizer_xor = tf.train.GradientDescentOptimizer(0.5).minimize(loss_function_xor)\n",
    "\n",
    "init_xor = tf.global_variables_initializer()\n",
    "sess_xor = tf.Session()"
   ]
  },
  {
   "cell_type": "code",
   "execution_count": 157,
   "metadata": {
    "collapsed": false
   },
   "outputs": [],
   "source": [
    "sess_xor.run(init_xor)\n",
    "for a in range(2500):\n",
    "    sess_xor.run(optimizer_xor, feed_dict={input_data_xor: X_xor, target_xor: Y_xor})"
   ]
  },
  {
   "cell_type": "code",
   "execution_count": 158,
   "metadata": {
    "collapsed": false
   },
   "outputs": [
    {
     "name": "stdout",
     "output_type": "stream",
     "text": [
      "0.6875 0.6875 -1.0\n"
     ]
    }
   ],
   "source": [
    "w_xor=[sess_xor.run(input_biases_xor, feed_dict={input_data_xor: X_xor, target_xor: Y_xor})[0]]+[i[0] for i in sess_xor.run(input_weights_xor, feed_dict={ input_data_xor: X_xor, target_xor: Y_xor})]\n",
    "\n",
    "m_xor=((w_xor[0]/w_xor[2]))/((-w_xor[0]/w_xor[1]))#cambio en la pendiente\n",
    "\n",
    "print (-1.0*w_xor[0]/w_xor[1], -1.0*w_xor[0]/w_xor[2], m_xor)"
   ]
  },
  {
   "cell_type": "code",
   "execution_count": 159,
   "metadata": {
    "collapsed": false
   },
   "outputs": [
    {
     "data": {
      "image/png": "[encoded data removed]",
      "text/plain": [
       "<matplotlib.figure.Figure at 0x12ca59940>"
      ]
     },
     "metadata": {},
     "output_type": "display_data"
    }
   ],
   "source": [
    "plt.scatter(X_xor[:,0],X_xor[:,1],c=['red' if i==1 else 'blue' for i in Y_xor])\n",
    "x2_xor = np.linspace(-7,7,100) # 100 numeros espaciados\n",
    "plt.plot(x2_xor,-w_xor[0]/w_xor[2]+m_xor*x2_xor,color='red')\n",
    "plt.ylim([-7,7])\n",
    "plt.xlim([-7,7])\n",
    "plt.show()"
   ]
  },
  {
   "cell_type": "code",
   "execution_count": null,
   "metadata": {
    "collapsed": true
   },
   "outputs": [],
   "source": []
  }
 ],
 "metadata": {
  "kernelspec": {
   "display_name": "Python 3",
   "language": "python",
   "name": "python3"
  },
  "language_info": {
   "codemirror_mode": {
    "name": "ipython",
    "version": 3
   },
   "file_extension": ".py",
   "mimetype": "text/x-python",
   "name": "python",
   "nbconvert_exporter": "python",
   "pygments_lexer": "ipython3",
   "version": "3.5.2"
  }
 },
 "nbformat": 4,
 "nbformat_minor": 2
}
